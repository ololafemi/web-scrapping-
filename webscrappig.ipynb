{
 "cells": [
  {
   "cell_type": "code",
   "execution_count": 1,
   "id": "b424e530-2a25-41b7-9d8d-a6b0937632de",
   "metadata": {},
   "outputs": [
    {
     "name": "stderr",
     "output_type": "stream",
     "text": [
      "mamba: command not found\n",
      "\r"
     ]
    }
   ],
   "source": [
    "!mamba install bs4==4.10.0 -y"
   ]
  },
  {
   "cell_type": "code",
   "execution_count": 4,
   "id": "21a048d9-33ad-496b-a346-d5025b768fe3",
   "metadata": {},
   "outputs": [
    {
     "name": "stderr",
     "output_type": "stream",
     "text": [
      "mamba: command not found\n",
      "\r"
     ]
    },
    {
     "name": "stdout",
     "output_type": "stream",
     "text": [
      "Defaulting to user installation because normal site-packages is not writeable\n",
      "Collecting lxml==4.6.4\n",
      "  Downloading lxml-4.6.4.tar.gz (3.2 MB)\n",
      "     ━━━━━━━━━━━━━━━━━━━━━━━━━━━━━━━━━━━━━━━━ 3.2/3.2 MB 33.8 kB/s eta 0:00:00\n",
      "  Preparing metadata (setup.py): started\n",
      "  Preparing metadata (setup.py): finished with status 'error'\n",
      "\r"
     ]
    },
    {
     "name": "stderr",
     "output_type": "stream",
     "text": [
      "  error: subprocess-exited-with-error\n",
      "  \n",
      "  × python setup.py egg_info did not run successfully.\n",
      "  │ exit code: 1\n",
      "  ╰─> [5 lines of output]\n",
      "      Building lxml version 4.6.4.\n",
      "      /private/var/mobile/Containers/Data/Application/CC0211D1-177E-4A53-92BC-14BB7C51FF99/tmp/pip-install-88habb84/lxml_c7ff8948dc7340a3906bd85c125a1f53/setup.py:67: DeprecationWarning: pkg_resources is deprecated as an API. See https://setuptools.pypa.io/en/latest/pkg_resources.html\n",
      "        import pkg_resources\n",
      "      Building without Cython.\n",
      "      Error: Please make sure the libxml2 and libxslt development packages are installed.\n",
      "      [end of output]\n",
      "  \n",
      "  note: This error originates from a subprocess, and is likely not a problem with pip.\n",
      "error: metadata-generation-failed\n",
      "\n",
      "× Encountered error while generating package metadata.\n",
      "╰─> See above for output.\n",
      "\n",
      "note: This is an issue with the package mentioned above, not pip.\n",
      "hint: See above for details.\n",
      "mamba: command not found\n",
      "\r"
     ]
    }
   ],
   "source": [
    "!mamba install bs4==4.10.0 -y\n",
    "!pip install lxml==4.6.4\n",
    "!mamba install html5lib==1.1 -y\n",
    "# !pip install requests==2.26.0"
   ]
  },
  {
   "cell_type": "code",
   "execution_count": 4,
   "id": "a2151960-2f9d-436e-9dec-2cb42e9c6bf7",
   "metadata": {},
   "outputs": [
    {
     "name": "stdout",
     "output_type": "stream",
     "text": [
      "Defaulting to user installation because normal site-packages is not writeable\n",
      "Collecting yfinance\n",
      "  Downloading yfinance-0.2.43-py2.py3-none-any.whl.metadata (11 kB)\n",
      "Requirement already satisfied: pandas>=1.3.0 in /private/var/containers/Bundle/Application/B35240F4-8338-4B42-B81E-F96C433CFAB3/Carnets-sci.app/Library/lib/python3.11/site-packages (from yfinance) (2.0.3)\n",
      "Requirement already satisfied: numpy>=1.16.5 in /private/var/containers/Bundle/Application/B35240F4-8338-4B42-B81E-F96C433CFAB3/Carnets-sci.app/Library/lib/python3.11/site-packages (from yfinance) (1.25.2+2.g530bd4c06)\n",
      "Requirement already satisfied: requests>=2.31 in /private/var/containers/Bundle/Application/B35240F4-8338-4B42-B81E-F96C433CFAB3/Carnets-sci.app/Library/lib/python3.11/site-packages (from yfinance) (2.31.0)\n",
      "Collecting multitasking>=0.0.7 (from yfinance)\n",
      "  Downloading multitasking-0.0.11-py3-none-any.whl.metadata (5.5 kB)\n",
      "Requirement already satisfied: lxml>=4.9.1 in /private/var/containers/Bundle/Application/B35240F4-8338-4B42-B81E-F96C433CFAB3/Carnets-sci.app/Library/lib/python3.11/site-packages (from yfinance) (4.9.3)\n",
      "Requirement already satisfied: platformdirs>=2.0.0 in /private/var/containers/Bundle/Application/B35240F4-8338-4B42-B81E-F96C433CFAB3/Carnets-sci.app/Library/lib/python3.11/site-packages (from yfinance) (4.1.0)\n",
      "Requirement already satisfied: pytz>=2022.5 in /private/var/containers/Bundle/Application/B35240F4-8338-4B42-B81E-F96C433CFAB3/Carnets-sci.app/Library/lib/python3.11/site-packages (from yfinance) (2023.3.post1)\n",
      "Collecting frozendict>=2.3.4 (from yfinance)\n",
      "  Downloading frozendict-2.4.4-py311-none-any.whl.metadata (23 kB)\n",
      "Collecting peewee>=3.16.2 (from yfinance)\n",
      "  Downloading peewee-3.17.6.tar.gz (3.0 MB)\n",
      "     ━━━━━━━━━━━━━━━━━━━━━━━━━━━━━━━━━━━━━━━━ 3.0/3.0 MB 200.4 kB/s eta 0:00:00\n",
      "  Preparing metadata (pyproject.toml): started\n",
      "  Preparing metadata (pyproject.toml): finished with status 'done'\n",
      "Requirement already satisfied: beautifulsoup4>=4.11.1 in /private/var/containers/Bundle/Application/B35240F4-8338-4B42-B81E-F96C433CFAB3/Carnets-sci.app/Library/lib/python3.11/site-packages (from yfinance) (4.12.3)\n",
      "Requirement already satisfied: html5lib>=1.1 in /private/var/containers/Bundle/Application/B35240F4-8338-4B42-B81E-F96C433CFAB3/Carnets-sci.app/Library/lib/python3.11/site-packages (from yfinance) (1.1)\n",
      "Requirement already satisfied: soupsieve>1.2 in /private/var/containers/Bundle/Application/B35240F4-8338-4B42-B81E-F96C433CFAB3/Carnets-sci.app/Library/lib/python3.11/site-packages (from beautifulsoup4>=4.11.1->yfinance) (2.5)\n",
      "Requirement already satisfied: six>=1.9 in /private/var/containers/Bundle/Application/B35240F4-8338-4B42-B81E-F96C433CFAB3/Carnets-sci.app/Library/lib/python3.11/site-packages (from html5lib>=1.1->yfinance) (1.16.0)\n",
      "Requirement already satisfied: webencodings in /private/var/containers/Bundle/Application/B35240F4-8338-4B42-B81E-F96C433CFAB3/Carnets-sci.app/Library/lib/python3.11/site-packages (from html5lib>=1.1->yfinance) (0.5.1)\n",
      "Requirement already satisfied: python-dateutil>=2.8.2 in /private/var/containers/Bundle/Application/B35240F4-8338-4B42-B81E-F96C433CFAB3/Carnets-sci.app/Library/lib/python3.11/site-packages (from pandas>=1.3.0->yfinance) (2.8.2)\n",
      "Requirement already satisfied: tzdata>=2022.1 in /private/var/containers/Bundle/Application/B35240F4-8338-4B42-B81E-F96C433CFAB3/Carnets-sci.app/Library/lib/python3.11/site-packages (from pandas>=1.3.0->yfinance) (2023.4)\n",
      "Requirement already satisfied: charset-normalizer<4,>=2 in /private/var/containers/Bundle/Application/B35240F4-8338-4B42-B81E-F96C433CFAB3/Carnets-sci.app/Library/lib/python3.11/site-packages (from requests>=2.31->yfinance) (3.3.2)\n",
      "Requirement already satisfied: idna<4,>=2.5 in /private/var/containers/Bundle/Application/B35240F4-8338-4B42-B81E-F96C433CFAB3/Carnets-sci.app/Library/lib/python3.11/site-packages (from requests>=2.31->yfinance) (3.6)\n",
      "Requirement already satisfied: urllib3<3,>=1.21.1 in /private/var/containers/Bundle/Application/B35240F4-8338-4B42-B81E-F96C433CFAB3/Carnets-sci.app/Library/lib/python3.11/site-packages (from requests>=2.31->yfinance) (2.1.0)\n",
      "Requirement already satisfied: certifi>=2017.4.17 in /private/var/containers/Bundle/Application/B35240F4-8338-4B42-B81E-F96C433CFAB3/Carnets-sci.app/Library/lib/python3.11/site-packages (from requests>=2.31->yfinance) (2023.11.17)\n",
      "Downloading yfinance-0.2.43-py2.py3-none-any.whl (84 kB)\n",
      "Downloading frozendict-2.4.4-py311-none-any.whl (16 kB)\n",
      "Downloading multitasking-0.0.11-py3-none-any.whl (8.5 kB)\n",
      "Building wheels for collected packages: peewee\n",
      "  Building wheel for peewee (pyproject.toml): started\n",
      "  Building wheel for peewee (pyproject.toml): finished with status 'done'\n",
      "  Created wheel for peewee: filename=peewee-3.17.6-py3-none-any.whl size=138888 sha256=d146f39cc611ca6f867c86a3e3fa6e72d0d2778ef1092f64602ac24142bdc02e\n",
      "  Stored in directory: /private/var/mobile/Containers/Data/Application/CC0211D1-177E-4A53-92BC-14BB7C51FF99/Library/Caches/pip/wheels/1c/09/7e/9f659fde248ecdc1722a142c1d744271aad3914a0afc191058\n",
      "Successfully built peewee\n",
      "Installing collected packages: peewee, multitasking, frozendict, yfinance\n",
      "Successfully installed frozendict-2.4.4 multitasking-0.0.11 peewee-3.17.6 yfinance-0.2.43\n",
      "Defaulting to user installation because normal site-packages is not writeable\n",
      "Requirement already satisfied: pandas in /private/var/containers/Bundle/Application/B35240F4-8338-4B42-B81E-F96C433CFAB3/Carnets-sci.app/Library/lib/python3.11/site-packages (2.0.3)\n",
      "Requirement already satisfied: python-dateutil>=2.8.2 in /private/var/containers/Bundle/Application/B35240F4-8338-4B42-B81E-F96C433CFAB3/Carnets-sci.app/Library/lib/python3.11/site-packages (from pandas) (2.8.2)\n",
      "Requirement already satisfied: pytz>=2020.1 in /private/var/containers/Bundle/Application/B35240F4-8338-4B42-B81E-F96C433CFAB3/Carnets-sci.app/Library/lib/python3.11/site-packages (from pandas) (2023.3.post1)\n",
      "Requirement already satisfied: tzdata>=2022.1 in /private/var/containers/Bundle/Application/B35240F4-8338-4B42-B81E-F96C433CFAB3/Carnets-sci.app/Library/lib/python3.11/site-packages (from pandas) (2023.4)\n",
      "Requirement already satisfied: numpy>=1.21.0 in /private/var/containers/Bundle/Application/B35240F4-8338-4B42-B81E-F96C433CFAB3/Carnets-sci.app/Library/lib/python3.11/site-packages (from pandas) (1.25.2+2.g530bd4c06)\n",
      "Requirement already satisfied: six>=1.5 in /private/var/containers/Bundle/Application/B35240F4-8338-4B42-B81E-F96C433CFAB3/Carnets-sci.app/Library/lib/python3.11/site-packages (from python-dateutil>=2.8.2->pandas) (1.16.0)\n",
      "Defaulting to user installation because normal site-packages is not writeable\n",
      "Requirement already satisfied: matplotlib in /private/var/containers/Bundle/Application/B35240F4-8338-4B42-B81E-F96C433CFAB3/Carnets-sci.app/Library/lib/python3.11/site-packages (3.9.0.dev16+g5446a454e4)\n",
      "Requirement already satisfied: contourpy>=1.0.1 in /private/var/containers/Bundle/Application/B35240F4-8338-4B42-B81E-F96C433CFAB3/Carnets-sci.app/Library/lib/python3.11/site-packages (from matplotlib) (1.1.0)\n",
      "Requirement already satisfied: cycler>=0.10 in /private/var/containers/Bundle/Application/B35240F4-8338-4B42-B81E-F96C433CFAB3/Carnets-sci.app/Library/lib/python3.11/site-packages (from matplotlib) (0.12.1)\n",
      "Requirement already satisfied: fonttools>=4.22.0 in /private/var/containers/Bundle/Application/B35240F4-8338-4B42-B81E-F96C433CFAB3/Carnets-sci.app/Library/lib/python3.11/site-packages (from matplotlib) (4.47.2)\n",
      "Requirement already satisfied: kiwisolver>=1.0.1 in /private/var/containers/Bundle/Application/B35240F4-8338-4B42-B81E-F96C433CFAB3/Carnets-sci.app/Library/lib/python3.11/site-packages (from matplotlib) (1.4.4)\n",
      "Requirement already satisfied: numpy>=1.21 in /private/var/containers/Bundle/Application/B35240F4-8338-4B42-B81E-F96C433CFAB3/Carnets-sci.app/Library/lib/python3.11/site-packages (from matplotlib) (1.25.2+2.g530bd4c06)\n",
      "Requirement already satisfied: packaging>=20.0 in /private/var/containers/Bundle/Application/B35240F4-8338-4B42-B81E-F96C433CFAB3/Carnets-sci.app/Library/lib/python3.11/site-packages (from matplotlib) (23.2)\n",
      "Requirement already satisfied: pillow>=6.2.0 in /private/var/containers/Bundle/Application/B35240F4-8338-4B42-B81E-F96C433CFAB3/Carnets-sci.app/Library/lib/python3.11/site-packages (from matplotlib) (10.0.0)\n",
      "Requirement already satisfied: pyparsing>=2.3.1 in /private/var/containers/Bundle/Application/B35240F4-8338-4B42-B81E-F96C433CFAB3/Carnets-sci.app/Library/lib/python3.11/site-packages (from matplotlib) (3.1.1)\n",
      "Requirement already satisfied: python-dateutil>=2.7 in /private/var/containers/Bundle/Application/B35240F4-8338-4B42-B81E-F96C433CFAB3/Carnets-sci.app/Library/lib/python3.11/site-packages (from matplotlib) (2.8.2)\n",
      "Requirement already satisfied: setuptools-scm>=7 in /private/var/containers/Bundle/Application/B35240F4-8338-4B42-B81E-F96C433CFAB3/Carnets-sci.app/Library/lib/python3.11/site-packages (from matplotlib) (8.0.4)\n",
      "Requirement already satisfied: six>=1.5 in /private/var/containers/Bundle/Application/B35240F4-8338-4B42-B81E-F96C433CFAB3/Carnets-sci.app/Library/lib/python3.11/site-packages (from python-dateutil>=2.7->matplotlib) (1.16.0)\n",
      "Requirement already satisfied: setuptools in /private/var/containers/Bundle/Application/B35240F4-8338-4B42-B81E-F96C433CFAB3/Carnets-sci.app/Library/lib/python3.11/site-packages (from setuptools-scm>=7->matplotlib) (69.0.3)\n",
      "Requirement already satisfied: typing-extensions in /private/var/containers/Bundle/Application/B35240F4-8338-4B42-B81E-F96C433CFAB3/Carnets-sci.app/Library/lib/python3.11/site-packages (from setuptools-scm>=7->matplotlib) (4.9.0)\n",
      "\r"
     ]
    }
   ],
   "source": [
    "!pip install yfinance\n",
    "!pip install pandas\n",
    "!pip install matplotlib"
   ]
  },
  {
   "cell_type": "code",
   "execution_count": 5,
   "id": "eb25db71-22db-46f0-a3d6-f7932ee847e2",
   "metadata": {},
   "outputs": [],
   "source": [
    "import yfinance as yf\n",
    "import pandas as pd\n",
    "import matplotlib_inline"
   ]
  },
  {
   "cell_type": "code",
   "execution_count": 20,
   "id": "23c68954-6149-49db-b791-c64df628ca7f",
   "metadata": {},
   "outputs": [
    {
     "name": "stdout",
     "output_type": "stream",
     "text": [
      "yfinance.Ticker object <MSFT>\n"
     ]
    }
   ],
   "source": [
    "import yfinance as yf\n",
    "\n",
    "# Download historical data for a stock\n",
    "msft = yf.Ticker(\"MSFT\")\n",
    "msft_data = msft.history(period=\"max\")\n",
    "\n",
    "# Display the downloaded data\n",
    "msft_data.head()\n",
    "print(msft)"
   ]
  },
  {
   "cell_type": "code",
   "execution_count": 18,
   "id": "9c968485-25ef-4251-8464-0d26a606906e",
   "metadata": {},
   "outputs": [
    {
     "name": "stdout",
     "output_type": "stream",
     "text": [
      "                                 Open        High         Low       Close  \\\n",
      "Date                                                                        \n",
      "1980-12-12 00:00:00-05:00    0.098943    0.099373    0.098943    0.098943   \n",
      "1980-12-15 00:00:00-05:00    0.094211    0.094211    0.093781    0.093781   \n",
      "1980-12-16 00:00:00-05:00    0.087328    0.087328    0.086898    0.086898   \n",
      "1980-12-17 00:00:00-05:00    0.089049    0.089479    0.089049    0.089049   \n",
      "1980-12-18 00:00:00-05:00    0.091630    0.092061    0.091630    0.091630   \n",
      "...                               ...         ...         ...         ...   \n",
      "2024-08-30 00:00:00-04:00  230.190002  230.399994  227.479996  229.000000   \n",
      "2024-09-03 00:00:00-04:00  228.550003  229.000000  221.169998  222.770004   \n",
      "2024-09-04 00:00:00-04:00  221.660004  221.779999  217.479996  220.850006   \n",
      "2024-09-05 00:00:00-04:00  221.630005  225.479996  221.520004  222.380005   \n",
      "2024-09-06 00:00:00-04:00  223.899994  225.240005  220.662003  221.059998   \n",
      "\n",
      "                              Volume  Dividends  Stock Splits  \n",
      "Date                                                           \n",
      "1980-12-12 00:00:00-05:00  469033600        0.0           0.0  \n",
      "1980-12-15 00:00:00-05:00  175884800        0.0           0.0  \n",
      "1980-12-16 00:00:00-05:00  105728000        0.0           0.0  \n",
      "1980-12-17 00:00:00-05:00   86441600        0.0           0.0  \n",
      "1980-12-18 00:00:00-05:00   73449600        0.0           0.0  \n",
      "...                              ...        ...           ...  \n",
      "2024-08-30 00:00:00-04:00   52990800        0.0           0.0  \n",
      "2024-09-03 00:00:00-04:00   50042900        0.0           0.0  \n",
      "2024-09-04 00:00:00-04:00   43840200        0.0           0.0  \n",
      "2024-09-05 00:00:00-04:00   36557900        0.0           0.0  \n",
      "2024-09-06 00:00:00-04:00   20642387        0.0           0.0  \n",
      "\n",
      "[11025 rows x 7 columns]\n"
     ]
    }
   ],
   "source": [
    "import yfinance as yf\n",
    "\n",
    "#Download historical data for a stock\n",
    "AAPL = yf.Ticker(\"AAPL\")\n",
    "AAPL= AAPL.history(period=\"max\")\n",
    "print(AAPL)"
   ]
  },
  {
   "cell_type": "code",
   "execution_count": 37,
   "id": "c2cdeab7-34df-4d81-9297-3d06036e7299",
   "metadata": {},
   "outputs": [
    {
     "name": "stderr",
     "output_type": "stream",
     "text": [
      "wget: command not found\n",
      "\r"
     ]
    },
    {
     "ename": "FileNotFoundError",
     "evalue": "[Errno 2] No such file or directory: 'amd.json'",
     "output_type": "error",
     "traceback": [
      "\u001b[0;31m---------------------------------------------------------------------------\u001b[0m",
      "\u001b[0;31mFileNotFoundError\u001b[0m                         Traceback (most recent call last)",
      "Cell \u001b[0;32mIn[37], line 18\u001b[0m\n\u001b[1;32m     15\u001b[0m get_ipython()\u001b[38;5;241m.\u001b[39msystem(\u001b[38;5;124m'\u001b[39m\u001b[38;5;124mwget https://cf-courses-data.s3.us.cloud-object-storage.appdomain.cloud/IBMDeve/]\u001b[39m\u001b[38;5;124m'\u001b[39m)\n\u001b[1;32m     17\u001b[0m \u001b[38;5;28;01mimport\u001b[39;00m \u001b[38;5;21;01mjson\u001b[39;00m\n\u001b[0;32m---> 18\u001b[0m \u001b[38;5;28;01mwith\u001b[39;00m \u001b[38;5;28;43mopen\u001b[39;49m\u001b[43m(\u001b[49m\u001b[38;5;124;43m'\u001b[39;49m\u001b[38;5;124;43mamd.json\u001b[39;49m\u001b[38;5;124;43m'\u001b[39;49m\u001b[43m)\u001b[49m \u001b[38;5;28;01mas\u001b[39;00m json_file:\n\u001b[1;32m     19\u001b[0m     amd_info \u001b[38;5;241m=\u001b[39m json\u001b[38;5;241m.\u001b[39mload(json_file)\n\u001b[1;32m     20\u001b[0m     \u001b[38;5;66;03m# Print the type of data variable    \u001b[39;00m\n\u001b[1;32m     21\u001b[0m     \u001b[38;5;66;03m#print(\"Type:\", type(apple_info))\u001b[39;00m\n",
      "File \u001b[0;32m/private/var/containers/Bundle/Application/B35240F4-8338-4B42-B81E-F96C433CFAB3/Carnets-sci.app/Library/lib/python3.11/site-packages/IPython/core/interactiveshell.py:284\u001b[0m, in \u001b[0;36m_modified_open\u001b[0;34m(file, *args, **kwargs)\u001b[0m\n\u001b[1;32m    277\u001b[0m \u001b[38;5;28;01mif\u001b[39;00m file \u001b[38;5;129;01min\u001b[39;00m {\u001b[38;5;241m0\u001b[39m, \u001b[38;5;241m1\u001b[39m, \u001b[38;5;241m2\u001b[39m}:\n\u001b[1;32m    278\u001b[0m     \u001b[38;5;28;01mraise\u001b[39;00m \u001b[38;5;167;01mValueError\u001b[39;00m(\n\u001b[1;32m    279\u001b[0m         \u001b[38;5;124mf\u001b[39m\u001b[38;5;124m\"\u001b[39m\u001b[38;5;124mIPython won\u001b[39m\u001b[38;5;124m'\u001b[39m\u001b[38;5;124mt let you open fd=\u001b[39m\u001b[38;5;132;01m{\u001b[39;00mfile\u001b[38;5;132;01m}\u001b[39;00m\u001b[38;5;124m by default \u001b[39m\u001b[38;5;124m\"\u001b[39m\n\u001b[1;32m    280\u001b[0m         \u001b[38;5;124m\"\u001b[39m\u001b[38;5;124mas it is likely to crash IPython. If you know what you are doing, \u001b[39m\u001b[38;5;124m\"\u001b[39m\n\u001b[1;32m    281\u001b[0m         \u001b[38;5;124m\"\u001b[39m\u001b[38;5;124myou can use builtins\u001b[39m\u001b[38;5;124m'\u001b[39m\u001b[38;5;124m open.\u001b[39m\u001b[38;5;124m\"\u001b[39m\n\u001b[1;32m    282\u001b[0m     )\n\u001b[0;32m--> 284\u001b[0m \u001b[38;5;28;01mreturn\u001b[39;00m \u001b[43mio_open\u001b[49m\u001b[43m(\u001b[49m\u001b[43mfile\u001b[49m\u001b[43m,\u001b[49m\u001b[43m \u001b[49m\u001b[38;5;241;43m*\u001b[39;49m\u001b[43margs\u001b[49m\u001b[43m,\u001b[49m\u001b[43m \u001b[49m\u001b[38;5;241;43m*\u001b[39;49m\u001b[38;5;241;43m*\u001b[39;49m\u001b[43mkwargs\u001b[49m\u001b[43m)\u001b[49m\n",
      "\u001b[0;31mFileNotFoundError\u001b[0m: [Errno 2] No such file or directory: 'amd.json'"
     ]
    }
   ],
   "source": [
    "import yfinance as yf\n",
    "\n",
    "AMD= yf.Ticker (\"amd\")\n",
    "\n",
    "AMD.info\n",
    "\n",
    "AMD.history(period=\"max\")\n",
    "\n",
    "AMD.actions\n",
    "\n",
    "AMD.dividends\n",
    "\n",
    "AMD.splits\n",
    "\n",
    "!wget https://cf-courses-data.s3.us.cloud-object-storage.appdomain.cloud/IBMDeve/]\n",
    "\n",
    "import json\n",
    "with open('amd.json') as json_file:\n",
    "    amd_info = json.load(json_file)\n",
    "    # Print the type of data variable    \n",
    "    #print(\"Type:\", type(apple_info))\n",
    "amd_info\n",
    "\n",
    "amd_info[\"country\"]"
   ]
  },
  {
   "cell_type": "code",
   "execution_count": null,
   "id": "6d21cbe9-97e6-4586-b28e-3f6e30edcb6f",
   "metadata": {},
   "outputs": [],
   "source": []
  }
 ],
 "metadata": {
  "kernelspec": {
   "display_name": "Python 3 (ipykernel)",
   "language": "python",
   "name": "python3"
  },
  "language_info": {
   "codemirror_mode": {
    "name": "ipython",
    "version": 3
   },
   "file_extension": ".py",
   "mimetype": "text/x-python",
   "name": "python",
   "nbconvert_exporter": "python",
   "pygments_lexer": "ipython3",
   "version": "3.11.0"
  }
 },
 "nbformat": 4,
 "nbformat_minor": 5
}
